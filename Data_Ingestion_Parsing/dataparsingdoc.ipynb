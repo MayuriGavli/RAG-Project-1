{
 "cells": [
  {
   "cell_type": "code",
   "execution_count": 4,
   "id": "2e3464b4",
   "metadata": {},
   "outputs": [],
   "source": [
    "from langchain_community.document_loaders import Docx2txtLoader, UnstructuredWordDocumentLoader"
   ]
  },
  {
   "cell_type": "code",
   "execution_count": 6,
   "id": "11f70bb8",
   "metadata": {},
   "outputs": [
    {
     "name": "stdout",
     "output_type": "stream",
     "text": [
      "Loaded 1 documents.\n",
      "Content preview: Requirement Document\n",
      "\n",
      "A typical requirement document (used in software or AI/ML projects) contains these sections:\n",
      "\n",
      "1. Introduction\n",
      "\n",
      "Purpose of the document\n",
      "\n",
      "\n",
      "Project overview\n",
      "\n",
      "\n",
      "Scope of the system\n",
      "\n",
      "\n",
      "....\n",
      "Metadata: {'source': '/Users/home/Documents/MR/RAG/Data_Ingestion_Parsing/data/word/Requirement Document.docx'}\n"
     ]
    }
   ],
   "source": [
    "# method 1: Using Docx2txtLoader\n",
    "try:\n",
    "    loader1 = Docx2txtLoader(\"/Users/home/Documents/MR/RAG/Data_Ingestion_Parsing/data/word/Requirement Document.docx\")\n",
    "    documents1 = loader1.load()\n",
    "\n",
    "\n",
    "    print(f\"Loaded {len(documents1)} documents.\")\n",
    "    print(f\"Content preview: {documents1[0].page_content[:200]}....\")\n",
    "    print(f\"Metadata: {documents1[0].metadata}\")  \n",
    "\n",
    "except Exception as e:\n",
    "    print(\"Error with Docx2txtLoader:\", e)  "
   ]
  },
  {
   "cell_type": "code",
   "execution_count": 8,
   "id": "d6824a96",
   "metadata": {},
   "outputs": [
    {
     "name": "stdout",
     "output_type": "stream",
     "text": [
      "Error with UnstructuredWordDocumentLoader: \n",
      "**********************************************************************\n",
      "  Resource \u001b[93mpunkt_tab\u001b[0m not found.\n",
      "  Please use the NLTK Downloader to obtain the resource:\n",
      "\n",
      "  \u001b[31m>>> import nltk\n",
      "  >>> nltk.download('punkt_tab')\n",
      "  \u001b[0m\n",
      "  For more information see: https://www.nltk.org/data.html\n",
      "\n",
      "  Attempted to load \u001b[93mtokenizers/punkt_tab/english/\u001b[0m\n",
      "\n",
      "  Searched in:\n",
      "    - '/Users/home/nltk_data'\n",
      "    - '/Users/home/Documents/MR/RAG/.venv/nltk_data'\n",
      "    - '/Users/home/Documents/MR/RAG/.venv/share/nltk_data'\n",
      "    - '/Users/home/Documents/MR/RAG/.venv/lib/nltk_data'\n",
      "    - '/usr/share/nltk_data'\n",
      "    - '/usr/local/share/nltk_data'\n",
      "    - '/usr/lib/nltk_data'\n",
      "    - '/usr/local/lib/nltk_data'\n",
      "**********************************************************************\n",
      "\n"
     ]
    }
   ],
   "source": [
    "#method -2 : Using UnstructuredWordDocumentLoader\n",
    "try:\n",
    "    loader2 = UnstructuredWordDocumentLoader(\"/Users/home/Documents/MR/RAG/Data_Ingestion_Parsing/data/word/Requirement Document.docx\",mode=\"elements\")\n",
    "    documents2 = loader2.load()\n",
    "\n",
    "    print(f\"Loaded {len(documents2)} documents.\")\n",
    "\n",
    "    for i, doc in enumerate(documents2):\n",
    "        print(f\"\\nDocument {i+1} :\")\n",
    "        print(f\"Type :{doc.metadata.get('category','unknown')}\")\n",
    "        print(f\"Content preview: {doc.page_content[:200]}....\")\n",
    "        print(f\"Metadata: {doc[0].metadata}\")\n",
    "\n",
    "except Exception as e:\n",
    "    print(\"Error with UnstructuredWordDocumentLoader:\", e)"
   ]
  },
  {
   "cell_type": "code",
   "execution_count": null,
   "id": "e5deb9bb",
   "metadata": {},
   "outputs": [],
   "source": []
  }
 ],
 "metadata": {
  "kernelspec": {
   "display_name": ".venv",
   "language": "python",
   "name": "python3"
  },
  "language_info": {
   "codemirror_mode": {
    "name": "ipython",
    "version": 3
   },
   "file_extension": ".py",
   "mimetype": "text/x-python",
   "name": "python",
   "nbconvert_exporter": "python",
   "pygments_lexer": "ipython3",
   "version": "3.13.5"
  }
 },
 "nbformat": 4,
 "nbformat_minor": 5
}
