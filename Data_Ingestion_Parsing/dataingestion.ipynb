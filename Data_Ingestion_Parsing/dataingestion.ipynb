{
 "cells": [
  {
   "cell_type": "code",
   "execution_count": 6,
   "id": "d7a2bcd5",
   "metadata": {},
   "outputs": [],
   "source": [
    "import os\n",
    "from typing import List,Dict,Any\n",
    "import pandas as pd\n"
   ]
  },
  {
   "cell_type": "code",
   "execution_count": 8,
   "id": "b173546b",
   "metadata": {},
   "outputs": [
    {
     "name": "stdout",
     "output_type": "stream",
     "text": [
      "set up completed\n"
     ]
    }
   ],
   "source": [
    "from langchain_core.documents import Document\n",
    "from langchain.text_splitter import(\n",
    "    RecursiveCharacterTextSplitter,\n",
    "    CharacterTextSplitter,\n",
    "    TokenTextSplitter\n",
    ")\n",
    "\n",
    "print(\"set up completed\")"
   ]
  },
  {
   "cell_type": "code",
   "execution_count": 13,
   "id": "efc72766",
   "metadata": {},
   "outputs": [
    {
     "name": "stdout",
     "output_type": "stream",
     "text": [
      "content : You have the right to perform your duty, but never to the fruits of your actions.\n",
      "content : {'source': 'mahabharat.txt', 'pages': 256, 'author': 'valmiki', 'date_created': '1002-1-1'}\n"
     ]
    }
   ],
   "source": [
    "# create simple document\n",
    "\n",
    "doc = Document(\n",
    "    page_content=\"You have the right to perform your duty, but never to the fruits of your actions.\",\n",
    "    metadata={\n",
    "        \"source\":\"mahabharat.txt\",\n",
    "        \"pages\":256,\n",
    "        \"author\":\"valmiki\",\n",
    "        \"date_created\":\"1002-1-1\",\n",
    "\n",
    "\n",
    "    }\n",
    ")\n",
    "\n",
    "print(f\"content : {doc.page_content}\")\n",
    "print(f\"content : {doc.metadata}\")\n"
   ]
  },
  {
   "cell_type": "code",
   "execution_count": null,
   "id": "d12dd033",
   "metadata": {},
   "outputs": [],
   "source": [
    "import os\n",
    "# making folder to store text files\n",
    "os.makedirs(\"data/text_files\",exist_ok=True)"
   ]
  },
  {
   "cell_type": "markdown",
   "id": "c1d6508b",
   "metadata": {},
   "source": [
    "insert data into text file"
   ]
  },
  {
   "cell_type": "code",
   "execution_count": 5,
   "id": "bbc3cba8",
   "metadata": {},
   "outputs": [],
   "source": [
    "sample_data = {\n",
    "    \"data/text_files/python_intro\":\"\"\"Python is a high-level, interpreted, object-oriented programming language known for its simplicity and readability.\n",
    "It was created by Guido van Rossum and first released in 1991.\n",
    "\n",
    "⚡ Key Features of Python\n",
    "\n",
    "Simple & Readable – Easy syntax, close to English.\n",
    "\n",
    "Interpreted – No need to compile; runs line by line.\n",
    "\n",
    "Cross-Platform – Works on Windows, macOS, Linux, etc.\n",
    "\n",
    "Object-Oriented – Supports classes, objects, inheritance, etc.\n",
    "\n",
    "Dynamic Typing – No need to declare variable types.\n",
    "\n",
    "Large Standard Library – Comes with modules for math, OS, web, AI, etc.\n",
    "\n",
    "Community Support – Huge developer community and resources.\n",
    "\n",
    "Versatile – Used in web apps, AI, ML, data science, IoT, automation, etc.\"\"\",\n",
    "\n",
    " \"data/text_files/ml_intro\":\"\"\"Machine Learning (ML) is a branch of Artificial Intelligence (AI) where systems learn from data and improve their performance automatically without being explicitly programmed for every task.\n",
    "\n",
    "Instead of writing rules, you provide the machine with data + algorithms, and it figures out patterns, makes predictions, or decisions.\"\"\",\n",
    "\n",
    " \"data/text_files/AI_intro\":\"\"\"Artificial Intelligence (AI) is a branch of computer science that deals with creating machines or software capable of performing tasks that normally require human intelligence. \n",
    " These tasks include reasoning, learning, decision making, problem solving, understanding language, and perception.\n",
    "John McCarthy (who coined the term in 1956) defined AI as “the science and engineering of making intelligent machines.”\"\"\"\n",
    "\n",
    "}"
   ]
  },
  {
   "cell_type": "code",
   "execution_count": 6,
   "id": "b64c24c1",
   "metadata": {},
   "outputs": [],
   "source": [
    "for filepath,content in sample_data.items():\n",
    "    with open(filepath,'w',encoding='utf-8') as f:\n",
    "        f.write(content)"
   ]
  },
  {
   "cell_type": "markdown",
   "id": "2863f460",
   "metadata": {},
   "source": [
    "read the file using TextLoader - Single File"
   ]
  },
  {
   "cell_type": "code",
   "execution_count": 27,
   "id": "52f2ef21",
   "metadata": {},
   "outputs": [
    {
     "name": "stdout",
     "output_type": "stream",
     "text": [
      "page_content='Python is a high-level, interpreted, object-oriented programming language known for its simplicity and readability.\n",
      "It was created by Guido van Rossum and first released in 1991.\n",
      "\n",
      "⚡ Key Features of Python\n",
      "\n",
      "Simple & Readable – Easy syntax, close to English.\n",
      "\n",
      "Interpreted – No need to compile; runs line by line.\n",
      "\n",
      "Cross-Platform – Works on Windows, macOS, Linux, etc.\n",
      "\n",
      "Object-Oriented – Supports classes, objects, inheritance, etc.\n",
      "\n",
      "Dynamic Typing – No need to declare variable types.\n",
      "\n",
      "Large Standard Library – Comes with modules for math, OS, web, AI, etc.\n",
      "\n",
      "Community Support – Huge developer community and resources.\n",
      "\n",
      "Versatile – Used in web apps, AI, ML, data science, IoT, automation, etc.' metadata={'source': '/Users/home/Documents/MR/RAG/Data_Ingestion_Parsing/data/text_files/python_intro.txt'}\n",
      "Python is a high-level, interpreted, object-oriented programming language known for its simplicity and readability.\n",
      "It was created by Guido van Rossum and first released in 1991.\n",
      "\n",
      "⚡ Key Features of Python\n",
      "\n",
      "Simple & Readable – Easy syntax, close to English.\n",
      "\n",
      "Interpreted – No need to compile; runs line by line.\n",
      "\n",
      "Cross-Platform – Works on Windows, macOS, Linux, etc.\n",
      "\n",
      "Object-Oriented – Supports classes, objects, inheritance, etc.\n",
      "\n",
      "Dynamic Typing – No need to declare variable types.\n",
      "\n",
      "Large Standard Library – Comes with modules for math, OS, web, AI, etc.\n",
      "\n",
      "Community Support – Huge developer community and resources.\n",
      "\n",
      "Versatile – Used in web apps, AI, ML, data science, IoT, automation, etc.\n",
      "-------==========-\n",
      "/Users/home/Documents/MR/RAG/Data_Ingestion_Parsing/data/text_files/python_intro.txt\n",
      "page_content='Python is a high-level, interpreted, object-oriented programming language known for its simplicity and readability.\n",
      "It was created by Guido van Rossum and first released in 1991.\n",
      "\n",
      "⚡ Key Features of Python\n",
      "\n",
      "Simple & Readable – Easy syntax, close to English.\n",
      "\n",
      "Interpreted – No need to compile; runs line by line.\n",
      "\n",
      "Cross-Platform – Works on Windows, macOS, Linux, etc.\n",
      "\n",
      "Object-Oriented – Supports classes, objects, inheritance, etc.\n",
      "\n",
      "Dynamic Typing – No need to declare variable types.\n",
      "\n",
      "Large Standard Library – Comes with modules for math, OS, web, AI, etc.\n",
      "\n",
      "Community Support – Huge developer community and resources.\n",
      "\n",
      "Versatile – Used in web apps, AI, ML, data science, IoT, automation, etc.' metadata={'source': '/Users/home/Documents/MR/RAG/Data_Ingestion_Parsing/data/text_files/python_intro.txt'}\n",
      "<class 'list'>\n",
      "loaded 1 documents\n",
      "content preview:Python is a high-level, interpreted, object-oriented programming language known for its simplicity a....\n",
      "metadata: {'source': '/Users/home/Documents/MR/RAG/Data_Ingestion_Parsing/data/text_files/python_intro.txt'}\n"
     ]
    }
   ],
   "source": [
    "from langchain.document_loaders import TextLoader\n",
    "\n",
    "loader = TextLoader(\"/Users/home/Documents/MR/RAG/Data_Ingestion_Parsing/data/text_files/python_intro.txt\",encoding=\"utf-8\")\n",
    "\n",
    "Documents = loader.load()\n",
    "# print(Documents)\n",
    "# print(\"---------\")\n",
    "od = Documents[0]#both page content & metadata respectively\n",
    "print(od)\n",
    "print(od.page_content)\n",
    "print(\"-------==========-\")\n",
    "print(od.metadata['source'])\n",
    "print(Documents[0])\n",
    "# print(\"---------=========\")\n",
    "# # print(\"---\",Documents.metadata.get('source','unknown'))\n",
    "# print(\"---\",Documents.metadata['source'])\n",
    "# print(\"---\",Documents)\n",
    "# print('oooooo')\n",
    "# print(doc.page_content)   # full text of the file\n",
    " # full text of the file)\n",
    "\n",
    "print(type(Documents))\n",
    "print(f\"loaded {len(Documents)} documents\")\n",
    "print(f\"content preview:{Documents[0].page_content[:100]}....\")\n",
    "print(f\"metadata: {Documents[0].metadata}\")\n"
   ]
  },
  {
   "cell_type": "markdown",
   "id": "63577b39",
   "metadata": {},
   "source": [
    "<!-- load all the text files from the directory\n",
    " -->\n"
   ]
  },
  {
   "cell_type": "code",
   "execution_count": 30,
   "id": "19f8ac42",
   "metadata": {},
   "outputs": [
    {
     "name": "stderr",
     "output_type": "stream",
     "text": [
      "100%|██████████| 3/3 [00:00<00:00, 2046.33it/s]"
     ]
    },
    {
     "name": "stdout",
     "output_type": "stream",
     "text": [
      "loaded 3 documents\n",
      "\n",
      "document 1\n",
      "source : {'source': 'data/text_files/python_intro.txt'}\n",
      "source : data/text_files/python_intro.txt\n",
      "length :691 characters\n",
      "-------------\n",
      "document 2\n",
      "source : {'source': 'data/text_files/AI_intro.txt'}\n",
      "source : data/text_files/AI_intro.txt\n",
      "length :413 characters\n",
      "-------------\n",
      "document 3\n",
      "source : {'source': 'data/text_files/ml_intro.txt'}\n",
      "source : data/text_files/ml_intro.txt\n",
      "length :327 characters\n",
      "-------------\n"
     ]
    },
    {
     "name": "stderr",
     "output_type": "stream",
     "text": [
      "\n"
     ]
    }
   ],
   "source": [
    "from langchain_community.document_loaders import DirectoryLoader\n",
    "from langchain.document_loaders import TextLoader\n",
    "\n",
    "dir_loader = DirectoryLoader(\n",
    "    \"data/text_files\", #path\n",
    "    glob=\"**/*.txt\", #pattern to match files, ** = folder , * = file\n",
    "    loader_cls = TextLoader,\n",
    "    loader_kwargs = {'encoding':'utf-8'}, #means the loader (reader) will open and read the file using UTF-8 encoding, which allows it to correctly understand and display: English letters,Numbers & punctuation,Accented characters,Non-Latin scripts,Emoji \n",
    "    show_progress = True # loading progress\n",
    "\n",
    ")\n",
    "\n",
    "documents = dir_loader.load()\n",
    "\n",
    "print(f\"loaded {len(documents)} documents\\n\")\n",
    "\n",
    "\n",
    "for i,doc in enumerate(documents):\n",
    "    print(f\"document {i+1}\")\n",
    "    # print(doc) # return page content(content of the file) and metadata(contain source[the relative path])\n",
    "    print(f\"source : {doc.metadata}\")\n",
    "    print(f\"source : {doc.metadata['source']}\")\n",
    "    # print(\"***********\")\n",
    "    \n",
    "    print(f\"length :{len(doc.page_content)} characters\")\n",
    "    print(\"-------------\")\n",
    "    # print(f\"length :{doc.page_content} characters\")\n"
   ]
  },
  {
   "cell_type": "markdown",
   "id": "bbcf5222",
   "metadata": {},
   "source": [
    "Chunking is not just splitting text—it’s an optimization problem balancing context, retrieval accuracy, and efficiency.\n",
    "\n",
    "Yes ✅ — overlap in chunking is definitely beneficial in RAG\n",
    "\n",
    "1. Why Overlap Helps\n",
    "\n",
    "Preserves continuity → If an important idea is split between two chunks, overlap ensures both chunks have enough context.\n",
    "\n",
    "Improves retrieval → Search engines (vector or keyword) can match a query to either chunk without missing part of the answer.\n",
    "\n",
    "Reduces hallucination → LLM doesn’t get isolated fragments that don’t make sense alone.\n",
    "\n",
    "Exmaple - Chunk A: \"The contract requires both parties to comply with...\"\n",
    "          Chunk B: \"...comply with all safety regulations. Failure to do so...\"   \n",
    "          \n",
    "          👉 Now each chunk makes sense independently.\n",
    "\n",
    "🔹 2. When Overlap is Most Useful\n",
    "\n",
    "When chunks are cut mid-sentence or mid-paragraph.\n",
    "\n",
    "For legal, medical, or technical docs where small missing context can change meaning.\n",
    "\n",
    "When using embedding/vector search, since embeddings work better if chunks are self-contained.\n",
    "\n",
    "🔹 3. How Much Overlap?\n",
    "\n",
    "Small overlap (50–100 tokens) is usually enough.\n",
    "\n",
    "Too little overlap → risk of losing context.\n",
    "\n",
    "Too much overlap → duplicates increase storage cost and slow retrieval.\n",
    "\n",
    "👉 Sweet spot: ~10–20% of chunk size.\n",
    "Example:\n",
    "\n",
    "Chunk size = 500 tokens → Overlap = 50–100 tokens."
   ]
  },
  {
   "cell_type": "markdown",
   "id": "9cd76073",
   "metadata": {},
   "source": [
    "Text Splitting Stratergies"
   ]
  },
  {
   "cell_type": "code",
   "execution_count": 32,
   "id": "7a143c3e",
   "metadata": {},
   "outputs": [
    {
     "name": "stdout",
     "output_type": "stream",
     "text": [
      "[Document(metadata={'source': 'data/text_files/python_intro.txt'}, page_content='Python is a high-level, interpreted, object-oriented programming language known for its simplicity and readability.\\nIt was created by Guido van Rossum and first released in 1991.\\n\\n⚡ Key Features of Python\\n\\nSimple & Readable – Easy syntax, close to English.\\n\\nInterpreted – No need to compile; runs line by line.\\n\\nCross-Platform – Works on Windows, macOS, Linux, etc.\\n\\nObject-Oriented – Supports classes, objects, inheritance, etc.\\n\\nDynamic Typing – No need to declare variable types.\\n\\nLarge Standard Library – Comes with modules for math, OS, web, AI, etc.\\n\\nCommunity Support – Huge developer community and resources.\\n\\nVersatile – Used in web apps, AI, ML, data science, IoT, automation, etc.'), Document(metadata={'source': 'data/text_files/AI_intro.txt'}, page_content='Artificial Intelligence (AI) is a branch of computer science that deals with creating machines or software capable of performing tasks that normally require human intelligence. \\n These tasks include reasoning, learning, decision making, problem solving, understanding language, and perception.\\nJohn McCarthy (who coined the term in 1956) defined AI as “the science and engineering of making intelligent machines.”'), Document(metadata={'source': 'data/text_files/ml_intro.txt'}, page_content='Machine Learning (ML) is a branch of Artificial Intelligence (AI) where systems learn from data and improve their performance automatically without being explicitly programmed for every task.\\nInstead of writing rules, you provide the machine with data + algorithms, and it figures out patterns, makes predictions, or decisions.')]\n"
     ]
    }
   ],
   "source": [
    "from langchain.text_splitter import(\n",
    "    RecursiveCharacterTextSplitter,\n",
    "    CharacterTextSplitter,\n",
    "    TokenTextSplitter\n",
    ")\n",
    "\n",
    "print(documents)"
   ]
  },
  {
   "cell_type": "markdown",
   "id": "ffc13c72",
   "metadata": {},
   "source": [
    "method-1 Character - based splitting"
   ]
  },
  {
   "cell_type": "code",
   "execution_count": null,
   "id": "a371962b",
   "metadata": {},
   "outputs": [
    {
     "name": "stdout",
     "output_type": "stream",
     "text": [
      "Created 4 chunks\n",
      "First chunk: Python is a high-level, interpreted, object-oriented programming language known for its simplicity a\n",
      "--------\n",
      "Python is a high-level, interpreted, object-oriented programming language known for its simplicity and readability.\n",
      "It was created by Guido van Rossum and first released in 1991.\n",
      "--------------\n",
      "⚡ Key Features of Python\n",
      "Simple & Readable – Easy syntax, close to English.\n",
      "Interpreted – No need to compile; runs line by line.\n",
      "Cross-Platform – Works on Windows, macOS, Linux, etc.\n",
      "--------------\n",
      "Object-Oriented – Supports classes, objects, inheritance, etc.\n",
      "Dynamic Typing – No need to declare variable types.\n",
      "Large Standard Library – Comes with modules for math, OS, web, AI, etc.\n",
      "--------------\n",
      "Community Support – Huge developer community and resources.\n",
      "Versatile – Used in web apps, AI, ML, data science, IoT, automation, etc.\n",
      "--------------\n"
     ]
    }
   ],
   "source": [
    "text = documents[0].page_content # in document[0] both the page content and metadata present\n",
    "\n",
    "char_splitter = CharacterTextSplitter(\n",
    "    separator=\"\\n\", #split on new lines\n",
    "    chunk_size = 200, #max chunk size in character\n",
    "    chunk_overlap = 20, #overlap between chunks\n",
    "    length_function = len # how to measure the chunk size \n",
    ")\n",
    "\n",
    "char_chunks = char_splitter.split_text(text)\n",
    "print(f\"Created {len(char_chunks)} chunks\")\n",
    "\n",
    "print(f\"First chunk: {char_chunks[0][:100]}\")\n",
    "print(\"--------\")\n",
    "\n",
    "print(char_chunks[0])\n",
    "print(\"--------------\")\n",
    "\n",
    "print(char_chunks[1])\n",
    "print(\"--------------\")\n",
    "\n",
    "print(char_chunks[2])\n",
    "print(\"--------------\")\n",
    "\n",
    "print(char_chunks[3])\n",
    "print(\"--------------\")\n"
   ]
  },
  {
   "cell_type": "markdown",
   "id": "f9f7226d",
   "metadata": {},
   "source": [
    "method-2 Recursive Character Text Splitter (Recommended)"
   ]
  },
  {
   "cell_type": "code",
   "execution_count": null,
   "id": "ed1fe615",
   "metadata": {},
   "outputs": [
    {
     "name": "stdout",
     "output_type": "stream",
     "text": [
      "Created 4 chunks\n",
      "First chunk: Python is a high-level, interpreted, object-oriented programming language known for its simplicity a\n",
      "--------\n",
      "Python is a high-level, interpreted, object-oriented programming language known for its simplicity and readability.\n",
      "It was created by Guido van Rossum and first released in 1991.\n",
      "\n",
      "⚡ Key Features of\n",
      "--------------\n",
      "Key Features of Python\n",
      "\n",
      "Simple & Readable – Easy syntax, close to English.\n",
      "\n",
      "Interpreted – No need to compile; runs line by line.\n",
      "\n",
      "Cross-Platform – Works on Windows, macOS, Linux,\n",
      "--------------\n",
      "macOS, Linux, etc.\n",
      "\n",
      "Object-Oriented – Supports classes, objects, inheritance, etc.\n",
      "\n",
      "Dynamic Typing – No need to declare variable types.\n",
      "\n",
      "Large Standard Library – Comes with modules for math, OS, web,\n",
      "--------------\n",
      "for math, OS, web, AI, etc.\n",
      "\n",
      "Community Support – Huge developer community and resources.\n",
      "\n",
      "Versatile – Used in web apps, AI, ML, data science, IoT, automation, etc.\n",
      "--------------\n"
     ]
    }
   ],
   "source": [
    "text = documents[0].page_content\n",
    "\n",
    "recursive_splitter = RecursiveCharacterTextSplitter(\n",
    "    # separators=[\"\\n\",\"\\n\\n\",\",\",\" \"], #here overlaping cannot be see\n",
    "    separators=\" \", # here overlaping can be see because of \" \" space splitter\n",
    "    chunk_size = 200,\n",
    "    chunk_overlap = 20,\n",
    "    length_function = len\n",
    ")\n",
    "\n",
    "recursive_chunks = recursive_splitter.split_text(text)\n",
    "print(f\"Created {len(recursive_chunks)} chunks\")\n",
    "\n",
    "print(f\"First chunk: {recursive_chunks[0][:100]}\")\n",
    "print(\"--------\")\n",
    "\n",
    "print(recursive_chunks[0])\n",
    "print(\"--------------\")\n",
    "\n",
    "print(recursive_chunks[1])\n",
    "print(\"--------------\")\n",
    "\n",
    "print(recursive_chunks[2])\n",
    "print(\"--------------\")\n",
    "\n",
    "print(recursive_chunks[3])\n",
    "print(\"--------------\")\n"
   ]
  },
  {
   "cell_type": "markdown",
   "id": "844dad2c",
   "metadata": {},
   "source": [
    "Method-3 Token - based splitting"
   ]
  },
  {
   "cell_type": "code",
   "execution_count": 94,
   "id": "ab2d7b6a",
   "metadata": {},
   "outputs": [
    {
     "name": "stdout",
     "output_type": "stream",
     "text": [
      "Created 5 chunks\n",
      "First chunk: Python is a high-level, interpreted, object-oriented programming language known for its simplicity a\n",
      "--------\n",
      "Python is a high-level, interpreted, object-oriented programming language known for its simplicity and readability.\n",
      "It was created by Guido van Rossum and first released in 1991.\n",
      "\n",
      "⚡ Key Features of Python\n",
      "\n",
      "Simple\n",
      "--------------\n",
      "⚡ Key Features of Python\n",
      "\n",
      "Simple & Readable – Easy syntax, close to English.\n",
      "\n",
      "Interpreted – No need to compile; runs line by line.\n",
      "\n",
      "Cross-Platform – Works on Windows, macOS, Linux\n",
      "--------------\n",
      "-Platform – Works on Windows, macOS, Linux, etc.\n",
      "\n",
      "Object-Oriented – Supports classes, objects, inheritance, etc.\n",
      "\n",
      "Dynamic Typing – No need to declare variable types.\n",
      "\n",
      "Large Standard Library – Comes\n",
      "--------------\n",
      " variable types.\n",
      "\n",
      "Large Standard Library – Comes with modules for math, OS, web, AI, etc.\n",
      "\n",
      "Community Support – Huge developer community and resources.\n",
      "\n",
      "Versatile – Used in web apps, AI, ML, data science\n",
      "--------------\n"
     ]
    }
   ],
   "source": [
    "text = documents[0].page_content\n",
    "\n",
    "token_splitter = TokenTextSplitter(\n",
    "    \n",
    "    chunk_size = 50,\n",
    "    chunk_overlap = 10,\n",
    "    # length_function = len\n",
    ")\n",
    "\n",
    "token_chunks = token_splitter.split_text(text)\n",
    "print(f\"Created {len(token_chunks)} chunks\")\n",
    "\n",
    "print(f\"First chunk: {token_chunks[0][:100]}\")\n",
    "print(\"--------\")\n",
    "\n",
    "print(token_chunks[0])\n",
    "print(\"--------------\")\n",
    "\n",
    "print(token_chunks[1])\n",
    "print(\"--------------\")\n",
    "\n",
    "print(token_chunks[2])\n",
    "print(\"--------------\")\n",
    "\n",
    "print(token_chunks[3])\n",
    "print(\"--------------\")\n"
   ]
  },
  {
   "cell_type": "code",
   "execution_count": null,
   "id": "d65c1111",
   "metadata": {},
   "outputs": [],
   "source": []
  }
 ],
 "metadata": {
  "kernelspec": {
   "display_name": "Python (uv-env)",
   "language": "python",
   "name": "uv-env"
  },
  "language_info": {
   "codemirror_mode": {
    "name": "ipython",
    "version": 3
   },
   "file_extension": ".py",
   "mimetype": "text/x-python",
   "name": "python",
   "nbconvert_exporter": "python",
   "pygments_lexer": "ipython3",
   "version": "3.13.5"
  }
 },
 "nbformat": 4,
 "nbformat_minor": 5
}
